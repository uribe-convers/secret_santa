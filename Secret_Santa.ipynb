{
 "cells": [
  {
   "cell_type": "code",
   "execution_count": null,
   "id": "03369dd7-25a7-4f8a-b4e3-be2a4e457b13",
   "metadata": {},
   "outputs": [],
   "source": [
    "## Simon Uribe - 2022-11-21\n",
    "\n",
    "## Input a list of names below with the people who will be playing Secret Santa\n",
    "## You can include each person's address after their name, separated by a space, `@`, and a space.\n",
    "## for example [\"Batman @ The Batcave\", \"The Penguin @ The Iceberg Lounge\", \"Robin @ The Circus\", \"Mr. Freeze @ Gotham Mercy Hospital\"]\n",
    "## the addresses are handy to have in case you are copy/pasting the output to emails or Slack messages\n",
    "## It prints out a table at the end in case that's useful!\n",
    "\n",
    "# Enjoy!\n",
    "\n",
    "\n",
    "from __future__ import annotations\n",
    "from random import shuffle\n",
    "import pandas as pd\n",
    "\n",
    "## without addresses\n",
    "## players = [\"Batman\", \"The Penguin\", \"Robin\", \"Mr. Freeze\"]\n",
    "\n",
    "# with addresses\n",
    "players = [\"Batman @ The Batcave\", \"The Penguin @ The Iceberg Lounge\", \"Robin @ The Circus\", \"Mr. Freeze @ Gotham Mercy Hospital\"]\n",
    "\n",
    "\n",
    "def play_secret_santa(players: list[str], address: bool=False) -> dict:\n",
    "    \"\"\"Randomizes a list of names to play Secret Santa\n",
    "    :param list[str] players: List of names of people who are playing\n",
    "    :param bool address: Set to True if the list of names includes each participant's address.\n",
    "    The address must be after their name, separated by a space, `@`, and a space. This parameter defaults to False.\n",
    "    :return dict: Dictionary with secret Santa as key and receiver as value\n",
    "    \"\"\"    \n",
    "    \n",
    "    givers = players.copy()\n",
    "    shuffle(givers)\n",
    "    receivers = players.copy()\n",
    "    shuffle(receivers)\n",
    "    \n",
    "    results = {}\n",
    "    all_gifted = len(givers)\n",
    "\n",
    "    while all_gifted > len(results):\n",
    "        for giver, receiver in zip(givers, receivers):\n",
    "            if giver != receiver:\n",
    "                results[giver] = receiver\n",
    "            else:\n",
    "                shuffle(givers)\n",
    "                shuffle(receivers)\n",
    "\n",
    "    if address:\n",
    "        for santa, receiver in results.items():\n",
    "            print(f\"\\n\\nDear {santa.split(' @ ')[0]}, you are giving a gift to {receiver.split(' @ ')[0]}!\\n\\n Their address is:\\n {receiver.split(' @ ')[1]}\\n\\n Cheers!\\n 🧝\")\n",
    "            print(\"\\n\\n\\n---------\\n\")\n",
    "    else:\n",
    "        for santa, receiver in results.items():\n",
    "            print(f\"\\n\\nDear {santa}, you are giving a gift to {receiver}!\\n\\n Cheers!\\n 🧝\")\n",
    "            print(\"\\n\\n\\n---------\\n\")\n",
    "    \n",
    "    return results"
   ]
  },
  {
   "cell_type": "code",
   "execution_count": null,
   "id": "d40ff723-477a-457e-a7b3-70d33bac0ae2",
   "metadata": {},
   "outputs": [],
   "source": [
    "results = play_secret_santa(players, address=True)"
   ]
  },
  {
   "cell_type": "code",
   "execution_count": null,
   "id": "5bc54ed5-e3f4-4144-ad62-185fb207fe10",
   "metadata": {},
   "outputs": [],
   "source": [
    "santas_df = pd.DataFrame.from_dict(results, orient=\"index\", columns=[\"Gift receiver\"])\n",
    "santas_df.index.name = \"Secret Santa\"\n",
    "santas_df"
   ]
  }
 ],
 "metadata": {
  "kernelspec": {
   "display_name": "Python 3 (ipykernel)",
   "language": "python",
   "name": "python3"
  },
  "language_info": {
   "codemirror_mode": {
    "name": "ipython",
    "version": 3
   },
   "file_extension": ".py",
   "mimetype": "text/x-python",
   "name": "python",
   "nbconvert_exporter": "python",
   "pygments_lexer": "ipython3",
   "version": "3.7.12"
  }
 },
 "nbformat": 4,
 "nbformat_minor": 5
}
